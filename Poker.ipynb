{
 "cells": [
  {
   "cell_type": "code",
   "execution_count": 1,
   "metadata": {},
   "outputs": [],
   "source": [
    "import numpy as np\n",
    "import pandas as pd\n",
    "import seaborn as sns\n",
    "import matplotlib.pyplot as plt\n",
    "import seaborn as sns\n",
    "import missingno as msno\n",
    "%matplotlib inline\n",
    "import warnings\n",
    "warnings.filterwarnings('ignore')"
   ]
  },
  {
   "cell_type": "code",
   "execution_count": 2,
   "metadata": {},
   "outputs": [],
   "source": [
    "#Preparation of the data\n",
    "features = ['Card 1 Suit','Card 1 Rank','Card 2 Suit','Card 2 Rank','Card 3 Suit','Card 3 Rank','Card 4 Suit','Card 4 Rank','Card 5 Suit','Card 5 Rank','Poker Hand']\n",
    "train_data=pd.read_csv('train.csv',sep= ',',names= features)\n",
    "test_data=pd.read_csv('test.csv', sep= ',',names= features)"
   ]
  },
  {
   "cell_type": "code",
   "execution_count": 3,
   "metadata": {
    "scrolled": true
   },
   "outputs": [
    {
     "data": {
      "text/html": [
       "<div>\n",
       "<style scoped>\n",
       "    .dataframe tbody tr th:only-of-type {\n",
       "        vertical-align: middle;\n",
       "    }\n",
       "\n",
       "    .dataframe tbody tr th {\n",
       "        vertical-align: top;\n",
       "    }\n",
       "\n",
       "    .dataframe thead th {\n",
       "        text-align: right;\n",
       "    }\n",
       "</style>\n",
       "<table border=\"1\" class=\"dataframe\">\n",
       "  <thead>\n",
       "    <tr style=\"text-align: right;\">\n",
       "      <th></th>\n",
       "      <th>Card 1 Suit</th>\n",
       "      <th>Card 1 Rank</th>\n",
       "      <th>Card 2 Suit</th>\n",
       "      <th>Card 2 Rank</th>\n",
       "      <th>Card 3 Suit</th>\n",
       "      <th>Card 3 Rank</th>\n",
       "      <th>Card 4 Suit</th>\n",
       "      <th>Card 4 Rank</th>\n",
       "      <th>Card 5 Suit</th>\n",
       "      <th>Card 5 Rank</th>\n",
       "      <th>Poker Hand</th>\n",
       "    </tr>\n",
       "  </thead>\n",
       "  <tbody>\n",
       "    <tr>\n",
       "      <th>0</th>\n",
       "      <td>1</td>\n",
       "      <td>10</td>\n",
       "      <td>1</td>\n",
       "      <td>11</td>\n",
       "      <td>1</td>\n",
       "      <td>13</td>\n",
       "      <td>1</td>\n",
       "      <td>12</td>\n",
       "      <td>1</td>\n",
       "      <td>1</td>\n",
       "      <td>9</td>\n",
       "    </tr>\n",
       "    <tr>\n",
       "      <th>1</th>\n",
       "      <td>2</td>\n",
       "      <td>11</td>\n",
       "      <td>2</td>\n",
       "      <td>13</td>\n",
       "      <td>2</td>\n",
       "      <td>10</td>\n",
       "      <td>2</td>\n",
       "      <td>12</td>\n",
       "      <td>2</td>\n",
       "      <td>1</td>\n",
       "      <td>9</td>\n",
       "    </tr>\n",
       "    <tr>\n",
       "      <th>2</th>\n",
       "      <td>3</td>\n",
       "      <td>12</td>\n",
       "      <td>3</td>\n",
       "      <td>11</td>\n",
       "      <td>3</td>\n",
       "      <td>13</td>\n",
       "      <td>3</td>\n",
       "      <td>10</td>\n",
       "      <td>3</td>\n",
       "      <td>1</td>\n",
       "      <td>9</td>\n",
       "    </tr>\n",
       "    <tr>\n",
       "      <th>3</th>\n",
       "      <td>4</td>\n",
       "      <td>10</td>\n",
       "      <td>4</td>\n",
       "      <td>11</td>\n",
       "      <td>4</td>\n",
       "      <td>1</td>\n",
       "      <td>4</td>\n",
       "      <td>13</td>\n",
       "      <td>4</td>\n",
       "      <td>12</td>\n",
       "      <td>9</td>\n",
       "    </tr>\n",
       "    <tr>\n",
       "      <th>4</th>\n",
       "      <td>4</td>\n",
       "      <td>1</td>\n",
       "      <td>4</td>\n",
       "      <td>13</td>\n",
       "      <td>4</td>\n",
       "      <td>12</td>\n",
       "      <td>4</td>\n",
       "      <td>11</td>\n",
       "      <td>4</td>\n",
       "      <td>10</td>\n",
       "      <td>9</td>\n",
       "    </tr>\n",
       "  </tbody>\n",
       "</table>\n",
       "</div>"
      ],
      "text/plain": [
       "   Card 1 Suit  Card 1 Rank  Card 2 Suit  Card 2 Rank  Card 3 Suit  \\\n",
       "0            1           10            1           11            1   \n",
       "1            2           11            2           13            2   \n",
       "2            3           12            3           11            3   \n",
       "3            4           10            4           11            4   \n",
       "4            4            1            4           13            4   \n",
       "\n",
       "   Card 3 Rank  Card 4 Suit  Card 4 Rank  Card 5 Suit  Card 5 Rank  Poker Hand  \n",
       "0           13            1           12            1            1           9  \n",
       "1           10            2           12            2            1           9  \n",
       "2           13            3           10            3            1           9  \n",
       "3            1            4           13            4           12           9  \n",
       "4           12            4           11            4           10           9  "
      ]
     },
     "execution_count": 3,
     "metadata": {},
     "output_type": "execute_result"
    }
   ],
   "source": [
    "train_data.head()"
   ]
  },
  {
   "cell_type": "code",
   "execution_count": 4,
   "metadata": {},
   "outputs": [
    {
     "data": {
      "text/html": [
       "<div>\n",
       "<style scoped>\n",
       "    .dataframe tbody tr th:only-of-type {\n",
       "        vertical-align: middle;\n",
       "    }\n",
       "\n",
       "    .dataframe tbody tr th {\n",
       "        vertical-align: top;\n",
       "    }\n",
       "\n",
       "    .dataframe thead th {\n",
       "        text-align: right;\n",
       "    }\n",
       "</style>\n",
       "<table border=\"1\" class=\"dataframe\">\n",
       "  <thead>\n",
       "    <tr style=\"text-align: right;\">\n",
       "      <th></th>\n",
       "      <th>Card 1 Suit</th>\n",
       "      <th>Card 1 Rank</th>\n",
       "      <th>Card 2 Suit</th>\n",
       "      <th>Card 2 Rank</th>\n",
       "      <th>Card 3 Suit</th>\n",
       "      <th>Card 3 Rank</th>\n",
       "      <th>Card 4 Suit</th>\n",
       "      <th>Card 4 Rank</th>\n",
       "      <th>Card 5 Suit</th>\n",
       "      <th>Card 5 Rank</th>\n",
       "      <th>Poker Hand</th>\n",
       "    </tr>\n",
       "  </thead>\n",
       "  <tbody>\n",
       "    <tr>\n",
       "      <th>0</th>\n",
       "      <td>1</td>\n",
       "      <td>1</td>\n",
       "      <td>1</td>\n",
       "      <td>13</td>\n",
       "      <td>2</td>\n",
       "      <td>4</td>\n",
       "      <td>2</td>\n",
       "      <td>3</td>\n",
       "      <td>1</td>\n",
       "      <td>12</td>\n",
       "      <td>0</td>\n",
       "    </tr>\n",
       "    <tr>\n",
       "      <th>1</th>\n",
       "      <td>3</td>\n",
       "      <td>12</td>\n",
       "      <td>3</td>\n",
       "      <td>2</td>\n",
       "      <td>3</td>\n",
       "      <td>11</td>\n",
       "      <td>4</td>\n",
       "      <td>5</td>\n",
       "      <td>2</td>\n",
       "      <td>5</td>\n",
       "      <td>1</td>\n",
       "    </tr>\n",
       "    <tr>\n",
       "      <th>2</th>\n",
       "      <td>1</td>\n",
       "      <td>9</td>\n",
       "      <td>4</td>\n",
       "      <td>6</td>\n",
       "      <td>1</td>\n",
       "      <td>4</td>\n",
       "      <td>3</td>\n",
       "      <td>2</td>\n",
       "      <td>3</td>\n",
       "      <td>9</td>\n",
       "      <td>1</td>\n",
       "    </tr>\n",
       "    <tr>\n",
       "      <th>3</th>\n",
       "      <td>1</td>\n",
       "      <td>4</td>\n",
       "      <td>3</td>\n",
       "      <td>13</td>\n",
       "      <td>2</td>\n",
       "      <td>13</td>\n",
       "      <td>2</td>\n",
       "      <td>1</td>\n",
       "      <td>3</td>\n",
       "      <td>6</td>\n",
       "      <td>1</td>\n",
       "    </tr>\n",
       "    <tr>\n",
       "      <th>4</th>\n",
       "      <td>3</td>\n",
       "      <td>10</td>\n",
       "      <td>2</td>\n",
       "      <td>7</td>\n",
       "      <td>1</td>\n",
       "      <td>2</td>\n",
       "      <td>2</td>\n",
       "      <td>11</td>\n",
       "      <td>4</td>\n",
       "      <td>9</td>\n",
       "      <td>0</td>\n",
       "    </tr>\n",
       "  </tbody>\n",
       "</table>\n",
       "</div>"
      ],
      "text/plain": [
       "   Card 1 Suit  Card 1 Rank  Card 2 Suit  Card 2 Rank  Card 3 Suit  \\\n",
       "0            1            1            1           13            2   \n",
       "1            3           12            3            2            3   \n",
       "2            1            9            4            6            1   \n",
       "3            1            4            3           13            2   \n",
       "4            3           10            2            7            1   \n",
       "\n",
       "   Card 3 Rank  Card 4 Suit  Card 4 Rank  Card 5 Suit  Card 5 Rank  Poker Hand  \n",
       "0            4            2            3            1           12           0  \n",
       "1           11            4            5            2            5           1  \n",
       "2            4            3            2            3            9           1  \n",
       "3           13            2            1            3            6           1  \n",
       "4            2            2           11            4            9           0  "
      ]
     },
     "execution_count": 4,
     "metadata": {},
     "output_type": "execute_result"
    }
   ],
   "source": [
    "test_data.head()"
   ]
  },
  {
   "cell_type": "code",
   "execution_count": 5,
   "metadata": {},
   "outputs": [],
   "source": [
    "pokerHandMap={ 0: \"Nothing in the hand\",\\\n",
    "               1: \"One Pair\",\\\n",
    "               2: \"Two Pair\",\\\n",
    "               3: \"Three of a Kind\",\\\n",
    "               4: \"Straight\",\\\n",
    "               5: \"Flush\",\\\n",
    "               6: \"Full House\",\\\n",
    "               7: \"Four of a Kind\",\\\n",
    "               8: \"Straight Flush\",\\\n",
    "               9: \"Royal Flush\" }\n",
    "suitMap = {1:\"Hearts\", 2:\"Spades\", 3:\"Diamonds\", 4:\"Clubs\"}\n",
    "data = pd.concat([train_data, test_data])\n",
    "\n",
    "CategoryVariableList = ['Card 1 Suit','Card 1 Rank','Card 2 Suit','Card 2 Rank','Card 3 Suit','Card 3 Rank','Card 4 Suit','Card 4 Rank','Card 5 Suit','Card 5 Rank','Poker Hand']\n",
    "for var in CategoryVariableList:\n",
    "    data[var] = data[var].astype('float64')\n",
    "    \n",
    "    \n",
    "#Pretifying data\n",
    "prettyData = data\n",
    "prettyData['Card 1 Suit']= data['Card 1 Suit'].map(suitMap)\n",
    "prettyData['Card 2 Suit']= data['Card 2 Suit'].map(suitMap)\n",
    "prettyData['Card 3 Suit']= data['Card 3 Suit'].map(suitMap)\n",
    "prettyData['Card 4 Suit']= data['Card 4 Suit'].map(suitMap)\n",
    "prettyData['Card 5 Suit']= data['Card 5 Suit'].map(suitMap)\n",
    "prettyData['Poker Hand']= data['Poker Hand'].map(pokerHandMap)"
   ]
  },
  {
   "cell_type": "code",
   "execution_count": 6,
   "metadata": {},
   "outputs": [
    {
     "data": {
      "text/html": [
       "<div>\n",
       "<style scoped>\n",
       "    .dataframe tbody tr th:only-of-type {\n",
       "        vertical-align: middle;\n",
       "    }\n",
       "\n",
       "    .dataframe tbody tr th {\n",
       "        vertical-align: top;\n",
       "    }\n",
       "\n",
       "    .dataframe thead th {\n",
       "        text-align: right;\n",
       "    }\n",
       "</style>\n",
       "<table border=\"1\" class=\"dataframe\">\n",
       "  <thead>\n",
       "    <tr style=\"text-align: right;\">\n",
       "      <th></th>\n",
       "      <th>Card 1 Suit</th>\n",
       "      <th>Card 1 Rank</th>\n",
       "      <th>Card 2 Suit</th>\n",
       "      <th>Card 2 Rank</th>\n",
       "      <th>Card 3 Suit</th>\n",
       "      <th>Card 3 Rank</th>\n",
       "      <th>Card 4 Suit</th>\n",
       "      <th>Card 4 Rank</th>\n",
       "      <th>Card 5 Suit</th>\n",
       "      <th>Card 5 Rank</th>\n",
       "      <th>Poker Hand</th>\n",
       "    </tr>\n",
       "  </thead>\n",
       "  <tbody>\n",
       "    <tr>\n",
       "      <th>0</th>\n",
       "      <td>Hearts</td>\n",
       "      <td>10.0</td>\n",
       "      <td>Hearts</td>\n",
       "      <td>11.0</td>\n",
       "      <td>Hearts</td>\n",
       "      <td>13.0</td>\n",
       "      <td>Hearts</td>\n",
       "      <td>12.0</td>\n",
       "      <td>Hearts</td>\n",
       "      <td>1.0</td>\n",
       "      <td>Royal Flush</td>\n",
       "    </tr>\n",
       "    <tr>\n",
       "      <th>1</th>\n",
       "      <td>Spades</td>\n",
       "      <td>11.0</td>\n",
       "      <td>Spades</td>\n",
       "      <td>13.0</td>\n",
       "      <td>Spades</td>\n",
       "      <td>10.0</td>\n",
       "      <td>Spades</td>\n",
       "      <td>12.0</td>\n",
       "      <td>Spades</td>\n",
       "      <td>1.0</td>\n",
       "      <td>Royal Flush</td>\n",
       "    </tr>\n",
       "    <tr>\n",
       "      <th>2</th>\n",
       "      <td>Diamonds</td>\n",
       "      <td>12.0</td>\n",
       "      <td>Diamonds</td>\n",
       "      <td>11.0</td>\n",
       "      <td>Diamonds</td>\n",
       "      <td>13.0</td>\n",
       "      <td>Diamonds</td>\n",
       "      <td>10.0</td>\n",
       "      <td>Diamonds</td>\n",
       "      <td>1.0</td>\n",
       "      <td>Royal Flush</td>\n",
       "    </tr>\n",
       "    <tr>\n",
       "      <th>3</th>\n",
       "      <td>Clubs</td>\n",
       "      <td>10.0</td>\n",
       "      <td>Clubs</td>\n",
       "      <td>11.0</td>\n",
       "      <td>Clubs</td>\n",
       "      <td>1.0</td>\n",
       "      <td>Clubs</td>\n",
       "      <td>13.0</td>\n",
       "      <td>Clubs</td>\n",
       "      <td>12.0</td>\n",
       "      <td>Royal Flush</td>\n",
       "    </tr>\n",
       "    <tr>\n",
       "      <th>4</th>\n",
       "      <td>Clubs</td>\n",
       "      <td>1.0</td>\n",
       "      <td>Clubs</td>\n",
       "      <td>13.0</td>\n",
       "      <td>Clubs</td>\n",
       "      <td>12.0</td>\n",
       "      <td>Clubs</td>\n",
       "      <td>11.0</td>\n",
       "      <td>Clubs</td>\n",
       "      <td>10.0</td>\n",
       "      <td>Royal Flush</td>\n",
       "    </tr>\n",
       "  </tbody>\n",
       "</table>\n",
       "</div>"
      ],
      "text/plain": [
       "  Card 1 Suit  Card 1 Rank Card 2 Suit  Card 2 Rank Card 3 Suit  Card 3 Rank  \\\n",
       "0      Hearts         10.0      Hearts         11.0      Hearts         13.0   \n",
       "1      Spades         11.0      Spades         13.0      Spades         10.0   \n",
       "2    Diamonds         12.0    Diamonds         11.0    Diamonds         13.0   \n",
       "3       Clubs         10.0       Clubs         11.0       Clubs          1.0   \n",
       "4       Clubs          1.0       Clubs         13.0       Clubs         12.0   \n",
       "\n",
       "  Card 4 Suit  Card 4 Rank Card 5 Suit  Card 5 Rank   Poker Hand  \n",
       "0      Hearts         12.0      Hearts          1.0  Royal Flush  \n",
       "1      Spades         12.0      Spades          1.0  Royal Flush  \n",
       "2    Diamonds         10.0    Diamonds          1.0  Royal Flush  \n",
       "3       Clubs         13.0       Clubs         12.0  Royal Flush  \n",
       "4       Clubs         11.0       Clubs         10.0  Royal Flush  "
      ]
     },
     "execution_count": 6,
     "metadata": {},
     "output_type": "execute_result"
    }
   ],
   "source": [
    "data.head()"
   ]
  },
  {
   "cell_type": "code",
   "execution_count": 7,
   "metadata": {},
   "outputs": [
    {
     "data": {
      "text/plain": [
       "pandas.core.frame.DataFrame"
      ]
     },
     "execution_count": 7,
     "metadata": {},
     "output_type": "execute_result"
    }
   ],
   "source": [
    "type(data)"
   ]
  },
  {
   "cell_type": "code",
   "execution_count": 8,
   "metadata": {},
   "outputs": [
    {
     "data": {
      "text/plain": [
       "<matplotlib.axes._subplots.AxesSubplot at 0x1630708f160>"
      ]
     },
     "execution_count": 8,
     "metadata": {},
     "output_type": "execute_result"
    },
    {
     "data": {
      "image/png": "[encoded data removed]",
      "text/plain": [
       "<Figure size 720x216 with 2 Axes>"
      ]
     },
     "metadata": {
      "needs_background": "light"
     },
     "output_type": "display_data"
    }
   ],
   "source": [
    "#Check for the Missing Data in the dataset\n",
    "msno.matrix(data,figsize=(10,3))"
   ]
  },
  {
   "cell_type": "code",
   "execution_count": 9,
   "metadata": {},
   "outputs": [
    {
     "data": {
      "text/html": [
       "<div>\n",
       "<style scoped>\n",
       "    .dataframe tbody tr th:only-of-type {\n",
       "        vertical-align: middle;\n",
       "    }\n",
       "\n",
       "    .dataframe tbody tr th {\n",
       "        vertical-align: top;\n",
       "    }\n",
       "\n",
       "    .dataframe thead th {\n",
       "        text-align: right;\n",
       "    }\n",
       "</style>\n",
       "<table border=\"1\" class=\"dataframe\">\n",
       "  <thead>\n",
       "    <tr style=\"text-align: right;\">\n",
       "      <th></th>\n",
       "      <th>Card 1 Rank</th>\n",
       "      <th>Card 2 Rank</th>\n",
       "      <th>Card 3 Rank</th>\n",
       "      <th>Card 4 Rank</th>\n",
       "      <th>Card 5 Rank</th>\n",
       "    </tr>\n",
       "  </thead>\n",
       "  <tbody>\n",
       "    <tr>\n",
       "      <th>count</th>\n",
       "      <td>1.025010e+06</td>\n",
       "      <td>1.025010e+06</td>\n",
       "      <td>1.025010e+06</td>\n",
       "      <td>1.025010e+06</td>\n",
       "      <td>1.025010e+06</td>\n",
       "    </tr>\n",
       "    <tr>\n",
       "      <th>mean</th>\n",
       "      <td>6.997861e+00</td>\n",
       "      <td>7.006295e+00</td>\n",
       "      <td>6.999246e+00</td>\n",
       "      <td>7.000838e+00</td>\n",
       "      <td>6.988828e+00</td>\n",
       "    </tr>\n",
       "    <tr>\n",
       "      <th>std</th>\n",
       "      <td>3.743529e+00</td>\n",
       "      <td>3.744054e+00</td>\n",
       "      <td>3.741964e+00</td>\n",
       "      <td>3.741423e+00</td>\n",
       "      <td>3.739936e+00</td>\n",
       "    </tr>\n",
       "    <tr>\n",
       "      <th>min</th>\n",
       "      <td>1.000000e+00</td>\n",
       "      <td>1.000000e+00</td>\n",
       "      <td>1.000000e+00</td>\n",
       "      <td>1.000000e+00</td>\n",
       "      <td>1.000000e+00</td>\n",
       "    </tr>\n",
       "    <tr>\n",
       "      <th>25%</th>\n",
       "      <td>4.000000e+00</td>\n",
       "      <td>4.000000e+00</td>\n",
       "      <td>4.000000e+00</td>\n",
       "      <td>4.000000e+00</td>\n",
       "      <td>4.000000e+00</td>\n",
       "    </tr>\n",
       "    <tr>\n",
       "      <th>50%</th>\n",
       "      <td>7.000000e+00</td>\n",
       "      <td>7.000000e+00</td>\n",
       "      <td>7.000000e+00</td>\n",
       "      <td>7.000000e+00</td>\n",
       "      <td>7.000000e+00</td>\n",
       "    </tr>\n",
       "    <tr>\n",
       "      <th>75%</th>\n",
       "      <td>1.000000e+01</td>\n",
       "      <td>1.000000e+01</td>\n",
       "      <td>1.000000e+01</td>\n",
       "      <td>1.000000e+01</td>\n",
       "      <td>1.000000e+01</td>\n",
       "    </tr>\n",
       "    <tr>\n",
       "      <th>max</th>\n",
       "      <td>1.300000e+01</td>\n",
       "      <td>1.300000e+01</td>\n",
       "      <td>1.300000e+01</td>\n",
       "      <td>1.300000e+01</td>\n",
       "      <td>1.300000e+01</td>\n",
       "    </tr>\n",
       "  </tbody>\n",
       "</table>\n",
       "</div>"
      ],
      "text/plain": [
       "        Card 1 Rank   Card 2 Rank   Card 3 Rank   Card 4 Rank   Card 5 Rank\n",
       "count  1.025010e+06  1.025010e+06  1.025010e+06  1.025010e+06  1.025010e+06\n",
       "mean   6.997861e+00  7.006295e+00  6.999246e+00  7.000838e+00  6.988828e+00\n",
       "std    3.743529e+00  3.744054e+00  3.741964e+00  3.741423e+00  3.739936e+00\n",
       "min    1.000000e+00  1.000000e+00  1.000000e+00  1.000000e+00  1.000000e+00\n",
       "25%    4.000000e+00  4.000000e+00  4.000000e+00  4.000000e+00  4.000000e+00\n",
       "50%    7.000000e+00  7.000000e+00  7.000000e+00  7.000000e+00  7.000000e+00\n",
       "75%    1.000000e+01  1.000000e+01  1.000000e+01  1.000000e+01  1.000000e+01\n",
       "max    1.300000e+01  1.300000e+01  1.300000e+01  1.300000e+01  1.300000e+01"
      ]
     },
     "execution_count": 9,
     "metadata": {},
     "output_type": "execute_result"
    }
   ],
   "source": [
    "data.describe() "
   ]
  },
  {
   "cell_type": "code",
   "execution_count": 10,
   "metadata": {},
   "outputs": [
    {
     "data": {
      "text/plain": [
       "Card 1 Suit    0\n",
       "Card 1 Rank    0\n",
       "Card 2 Suit    0\n",
       "Card 2 Rank    0\n",
       "Card 3 Suit    0\n",
       "Card 3 Rank    0\n",
       "Card 4 Suit    0\n",
       "Card 4 Rank    0\n",
       "Card 5 Suit    0\n",
       "Card 5 Rank    0\n",
       "Poker Hand     0\n",
       "dtype: int64"
      ]
     },
     "execution_count": 10,
     "metadata": {},
     "output_type": "execute_result"
    }
   ],
   "source": [
    "data.isnull().sum()"
   ]
  },
  {
   "cell_type": "code",
   "execution_count": 11,
   "metadata": {},
   "outputs": [
    {
     "data": {
      "image/png": "[encoded data removed]",
      "text/plain": [
       "<Figure size 720x720 with 2 Axes>"
      ]
     },
     "metadata": {
      "needs_background": "light"
     },
     "output_type": "display_data"
    }
   ],
   "source": [
    "import seaborn as sns\n",
    "#get correlations of each features in dataset\n",
    "corrmat = data.corr()\n",
    "corr_features = corrmat.index\n",
    "plt.figure(figsize=(10,10))\n",
    "#plot heat map\n",
    "g=sns.heatmap(data[corr_features].corr(),annot=True,cmap=\"RdYlGn\")"
   ]
  },
  {
   "cell_type": "code",
   "execution_count": 12,
   "metadata": {},
   "outputs": [],
   "source": [
    "#Preparation of the data again because above we got the data which is in series type but we want dataframe type so we are converting the data\n",
    "features = ['Card 1 Suit','Card 1 Rank','Card 2 Suit','Card 2 Rank','Card 3 Suit','Card 3 Rank','Card 4 Suit','Card 4 Rank','Card 5 Suit','Card 5 Rank','Poker Hand']\n",
    "train_data=pd.read_csv('train.csv',sep= ',',names= features)\n",
    "test_data=pd.read_csv('test.csv', sep= ',',names= features)\n",
    "data = pd.concat([train_data, test_data])\n",
    "\n",
    "numVariableList = ['Card 1 Suit','Card 1 Rank','Card 2 Suit','Card 2 Rank','Card 3 Suit','Card 3 Rank','Card 4 Suit','Card 4 Rank','Card 5 Suit','Card 5 Rank','Poker Hand']\n",
    "for var in numVariableList:\n",
    "    data[var] = data[var].astype('float64')"
   ]
  },
  {
   "cell_type": "code",
   "execution_count": 13,
   "metadata": {},
   "outputs": [
    {
     "data": {
      "text/html": [
       "<div>\n",
       "<style scoped>\n",
       "    .dataframe tbody tr th:only-of-type {\n",
       "        vertical-align: middle;\n",
       "    }\n",
       "\n",
       "    .dataframe tbody tr th {\n",
       "        vertical-align: top;\n",
       "    }\n",
       "\n",
       "    .dataframe thead th {\n",
       "        text-align: right;\n",
       "    }\n",
       "</style>\n",
       "<table border=\"1\" class=\"dataframe\">\n",
       "  <thead>\n",
       "    <tr style=\"text-align: right;\">\n",
       "      <th></th>\n",
       "      <th>Card 1 Suit</th>\n",
       "      <th>Card 1 Rank</th>\n",
       "      <th>Card 2 Suit</th>\n",
       "      <th>Card 2 Rank</th>\n",
       "      <th>Card 3 Suit</th>\n",
       "      <th>Card 3 Rank</th>\n",
       "      <th>Card 4 Suit</th>\n",
       "      <th>Card 4 Rank</th>\n",
       "      <th>Card 5 Suit</th>\n",
       "      <th>Card 5 Rank</th>\n",
       "      <th>Poker Hand</th>\n",
       "    </tr>\n",
       "  </thead>\n",
       "  <tbody>\n",
       "    <tr>\n",
       "      <th>0</th>\n",
       "      <td>1.0</td>\n",
       "      <td>10.0</td>\n",
       "      <td>1.0</td>\n",
       "      <td>11.0</td>\n",
       "      <td>1.0</td>\n",
       "      <td>13.0</td>\n",
       "      <td>1.0</td>\n",
       "      <td>12.0</td>\n",
       "      <td>1.0</td>\n",
       "      <td>1.0</td>\n",
       "      <td>9.0</td>\n",
       "    </tr>\n",
       "    <tr>\n",
       "      <th>1</th>\n",
       "      <td>2.0</td>\n",
       "      <td>11.0</td>\n",
       "      <td>2.0</td>\n",
       "      <td>13.0</td>\n",
       "      <td>2.0</td>\n",
       "      <td>10.0</td>\n",
       "      <td>2.0</td>\n",
       "      <td>12.0</td>\n",
       "      <td>2.0</td>\n",
       "      <td>1.0</td>\n",
       "      <td>9.0</td>\n",
       "    </tr>\n",
       "    <tr>\n",
       "      <th>2</th>\n",
       "      <td>3.0</td>\n",
       "      <td>12.0</td>\n",
       "      <td>3.0</td>\n",
       "      <td>11.0</td>\n",
       "      <td>3.0</td>\n",
       "      <td>13.0</td>\n",
       "      <td>3.0</td>\n",
       "      <td>10.0</td>\n",
       "      <td>3.0</td>\n",
       "      <td>1.0</td>\n",
       "      <td>9.0</td>\n",
       "    </tr>\n",
       "    <tr>\n",
       "      <th>3</th>\n",
       "      <td>4.0</td>\n",
       "      <td>10.0</td>\n",
       "      <td>4.0</td>\n",
       "      <td>11.0</td>\n",
       "      <td>4.0</td>\n",
       "      <td>1.0</td>\n",
       "      <td>4.0</td>\n",
       "      <td>13.0</td>\n",
       "      <td>4.0</td>\n",
       "      <td>12.0</td>\n",
       "      <td>9.0</td>\n",
       "    </tr>\n",
       "    <tr>\n",
       "      <th>4</th>\n",
       "      <td>4.0</td>\n",
       "      <td>1.0</td>\n",
       "      <td>4.0</td>\n",
       "      <td>13.0</td>\n",
       "      <td>4.0</td>\n",
       "      <td>12.0</td>\n",
       "      <td>4.0</td>\n",
       "      <td>11.0</td>\n",
       "      <td>4.0</td>\n",
       "      <td>10.0</td>\n",
       "      <td>9.0</td>\n",
       "    </tr>\n",
       "  </tbody>\n",
       "</table>\n",
       "</div>"
      ],
      "text/plain": [
       "   Card 1 Suit  Card 1 Rank  Card 2 Suit  Card 2 Rank  Card 3 Suit  \\\n",
       "0          1.0         10.0          1.0         11.0          1.0   \n",
       "1          2.0         11.0          2.0         13.0          2.0   \n",
       "2          3.0         12.0          3.0         11.0          3.0   \n",
       "3          4.0         10.0          4.0         11.0          4.0   \n",
       "4          4.0          1.0          4.0         13.0          4.0   \n",
       "\n",
       "   Card 3 Rank  Card 4 Suit  Card 4 Rank  Card 5 Suit  Card 5 Rank  Poker Hand  \n",
       "0         13.0          1.0         12.0          1.0          1.0         9.0  \n",
       "1         10.0          2.0         12.0          2.0          1.0         9.0  \n",
       "2         13.0          3.0         10.0          3.0          1.0         9.0  \n",
       "3          1.0          4.0         13.0          4.0         12.0         9.0  \n",
       "4         12.0          4.0         11.0          4.0         10.0         9.0  "
      ]
     },
     "execution_count": 13,
     "metadata": {},
     "output_type": "execute_result"
    }
   ],
   "source": [
    "data.head()"
   ]
  },
  {
   "cell_type": "code",
   "execution_count": 14,
   "metadata": {
    "scrolled": true
   },
   "outputs": [
    {
     "data": {
      "text/plain": [
       "pandas.core.frame.DataFrame"
      ]
     },
     "execution_count": 14,
     "metadata": {},
     "output_type": "execute_result"
    }
   ],
   "source": [
    "type(data)"
   ]
  },
  {
   "cell_type": "code",
   "execution_count": 15,
   "metadata": {},
   "outputs": [],
   "source": [
    "from sklearn.cluster import KMeans\n",
    "from scipy.spatial.distance import cdist\n",
    "from sklearn.decomposition import PCA"
   ]
  },
  {
   "cell_type": "code",
   "execution_count": 16,
   "metadata": {},
   "outputs": [
    {
     "data": {
      "image/png": "[encoded data removed]",
      "text/plain": [
       "<Figure size 432x288 with 1 Axes>"
      ]
     },
     "metadata": {
      "needs_background": "light"
     },
     "output_type": "display_data"
    }
   ],
   "source": [
    "#Loop through cluster and fit the model to the train set\n",
    "clusters= range(1,11)\n",
    "meandist=[]\n",
    "\n",
    "for k in clusters:\n",
    "    model=KMeans(n_clusters=k)\n",
    "    model.fit(data)\n",
    "    clusterassign=model.predict(data)\n",
    "    meandist.append(sum(np.min(cdist(data, model.cluster_centers_,'euclidean'),axis=1))\n",
    "    / data.shape[0])\n",
    "    \n",
    "\n",
    "#Display the data\n",
    "plt.plot(clusters,meandist)\n",
    "plt.xlabel('Number of Clusters')\n",
    "plt.ylabel('Average distance')\n",
    "plt.title('Selecting K with the Elbow method')\n",
    "plt.show()"
   ]
  },
  {
   "cell_type": "code",
   "execution_count": 19,
   "metadata": {},
   "outputs": [
    {
     "data": {
      "image/png": "[encoded data removed]",
      "text/plain": [
       "<Figure size 432x288 with 1 Axes>"
      ]
     },
     "metadata": {
      "needs_background": "light"
     },
     "output_type": "display_data"
    }
   ],
   "source": [
    "#Interpret 2 cluster solution\n",
    "mode2Cluster=KMeans(n_clusters=2, random_state=0)\n",
    "mode2Cluster.fit(data)\n",
    "preds=mode2Cluster.predict(data)\n",
    "\n",
    "#Squash the multi-Dimensional data to 2-D data\n",
    "\n",
    "pca_algo=PCA(2)\n",
    "plot_columns=pca_algo.fit_transform(data)\n",
    "plt.scatter(x=plot_columns[:,0],y=plot_columns[:,-1],c=mode2Cluster.labels_,)\n",
    "plt.xlabel('Canonical Varaible 1')\n",
    "plt.ylabel('Canonical Varaible 2')\n",
    "plt.title('Scatterplot of Canonical Variables for 2 Clusters')\n",
    "plt.show()"
   ]
  },
  {
   "cell_type": "code",
   "execution_count": null,
   "metadata": {},
   "outputs": [],
   "source": []
  }
 ],
 "metadata": {
  "kernelspec": {
   "display_name": "Python 3",
   "language": "python",
   "name": "python3"
  },
  "language_info": {
   "codemirror_mode": {
    "name": "ipython",
    "version": 3
   },
   "file_extension": ".py",
   "mimetype": "text/x-python",
   "name": "python",
   "nbconvert_exporter": "python",
   "pygments_lexer": "ipython3",
   "version": "3.7.3"
  }
 },
 "nbformat": 4,
 "nbformat_minor": 2
}
